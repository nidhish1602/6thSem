{
  "nbformat": 4,
  "nbformat_minor": 0,
  "metadata": {
    "colab": {
      "name": "FindS.ipynb",
      "provenance": []
    },
    "kernelspec": {
      "name": "python3",
      "display_name": "Python 3"
    },
    "language_info": {
      "name": "python"
    }
  },
  "cells": [
    {
      "cell_type": "code",
      "metadata": {
        "colab": {
          "base_uri": "https://localhost:8080/"
        },
        "id": "BQZ9GBuJlawH",
        "outputId": "137fc1ee-8d35-407b-ee1b-d83da894929d"
      },
      "source": [
        "import csv\n",
        "\n",
        "a = []\n",
        "\n",
        "with open('enjoysport.csv', 'r') as csvfile:\n",
        "    for row in csv.reader(csvfile):\n",
        "        a.append(row)\n",
        "    print(a)\n",
        "\n",
        "print(\"\\n The total number of training instances are : \",len(a))\n",
        "\n",
        "num_attribute = len(a[0])-1\n",
        "\n",
        "print(\"\\n The initial hypothesis is : \")\n",
        "hypothesis = ['0']*num_attribute\n",
        "print(hypothesis)\n",
        "\n",
        "for i in range(0, len(a)):\n",
        "    if a[i][num_attribute] == 'yes':\n",
        "        for j in range(0, num_attribute):\n",
        "            if hypothesis[j] == '0' or hypothesis[j] == a[i][j]:\n",
        "                hypothesis[j] = a[i][j]\n",
        "            else:\n",
        "                hypothesis[j] = '?'\n",
        "    print(\"\\n The hypothesis for the training instance {} is : \\n\" .format(i+1),hypothesis)\n",
        "\n",
        "print(\"\\n The Maximally specific hypothesis for the training instance is \")\n",
        "print(hypothesis)"
      ],
      "execution_count": 1,
      "outputs": [
        {
          "output_type": "stream",
          "text": [
            "[['sky', 'airtemp', 'humidity', 'wind', 'water', 'forcast', 'enjoysport'], ['sunny', 'warm', 'normal', 'strong', 'warm', 'same', 'yes'], ['sunny', 'warm', 'high', 'strong', 'warm', 'same', 'yes'], ['rainy', 'cold', 'high', 'strong', 'warm', 'change', 'no'], ['sunny', 'warm', 'high', 'strong', 'cool', 'change', 'yes']]\n",
            "\n",
            " The total number of training instances are :  5\n",
            "\n",
            " The initial hypothesis is : \n",
            "['0', '0', '0', '0', '0', '0']\n",
            "\n",
            " The hypothesis for the training instance 1 is : \n",
            " ['0', '0', '0', '0', '0', '0']\n",
            "\n",
            " The hypothesis for the training instance 2 is : \n",
            " ['sunny', 'warm', 'normal', 'strong', 'warm', 'same']\n",
            "\n",
            " The hypothesis for the training instance 3 is : \n",
            " ['sunny', 'warm', '?', 'strong', 'warm', 'same']\n",
            "\n",
            " The hypothesis for the training instance 4 is : \n",
            " ['sunny', 'warm', '?', 'strong', 'warm', 'same']\n",
            "\n",
            " The hypothesis for the training instance 5 is : \n",
            " ['sunny', 'warm', '?', 'strong', '?', '?']\n",
            "\n",
            " The Maximally specific hypothesis for the training instance is \n",
            "['sunny', 'warm', '?', 'strong', '?', '?']\n"
          ],
          "name": "stdout"
        }
      ]
    }
  ]
}