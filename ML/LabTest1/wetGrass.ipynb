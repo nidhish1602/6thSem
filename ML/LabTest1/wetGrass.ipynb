{
  "nbformat": 4,
  "nbformat_minor": 0,
  "metadata": {
    "colab": {
      "name": "wetGrass.ipynb",
      "provenance": []
    },
    "kernelspec": {
      "name": "python3",
      "display_name": "Python 3"
    },
    "language_info": {
      "name": "python"
    }
  },
  "cells": [
    {
      "cell_type": "code",
      "metadata": {
        "colab": {
          "base_uri": "https://localhost:8080/",
          "height": 438
        },
        "id": "O9oBXGbcuQRA",
        "outputId": "f78dbd27-61ab-4da6-e426-e6e69c272491"
      },
      "source": [
        "!pip install pomegranate"
      ],
      "execution_count": 2,
      "outputs": [
        {
          "output_type": "stream",
          "text": [
            "Collecting pomegranate\n",
            "\u001b[?25l  Downloading https://files.pythonhosted.org/packages/bd/b9/b64c8722891d9089959b403b8b6a5413c325ed2f6b07f2b2d5246a151551/pomegranate-0.14.5-cp37-cp37m-manylinux2010_x86_64.whl (17.9MB)\n",
            "\u001b[K     |████████████████████████████████| 17.9MB 227kB/s \n",
            "\u001b[?25hRequirement already satisfied: pyyaml in /usr/local/lib/python3.7/dist-packages (from pomegranate) (3.13)\n",
            "Requirement already satisfied: scipy>=0.17.0 in /usr/local/lib/python3.7/dist-packages (from pomegranate) (1.4.1)\n",
            "Requirement already satisfied: joblib>=0.9.0b4 in /usr/local/lib/python3.7/dist-packages (from pomegranate) (1.0.1)\n",
            "Collecting numpy>=1.20.0\n",
            "\u001b[?25l  Downloading https://files.pythonhosted.org/packages/a5/42/560d269f604d3e186a57c21a363e77e199358d054884e61b73e405dd217c/numpy-1.20.3-cp37-cp37m-manylinux_2_12_x86_64.manylinux2010_x86_64.whl (15.3MB)\n",
            "\u001b[K     |████████████████████████████████| 15.3MB 278kB/s \n",
            "\u001b[?25hRequirement already satisfied: networkx>=2.4 in /usr/local/lib/python3.7/dist-packages (from pomegranate) (2.5.1)\n",
            "Requirement already satisfied: decorator<5,>=4.3 in /usr/local/lib/python3.7/dist-packages (from networkx>=2.4->pomegranate) (4.4.2)\n",
            "\u001b[31mERROR: tensorflow 2.4.1 has requirement numpy~=1.19.2, but you'll have numpy 1.20.3 which is incompatible.\u001b[0m\n",
            "\u001b[31mERROR: datascience 0.10.6 has requirement folium==0.2.1, but you'll have folium 0.8.3 which is incompatible.\u001b[0m\n",
            "\u001b[31mERROR: albumentations 0.1.12 has requirement imgaug<0.2.7,>=0.2.5, but you'll have imgaug 0.2.9 which is incompatible.\u001b[0m\n",
            "Installing collected packages: numpy, pomegranate\n",
            "  Found existing installation: numpy 1.19.5\n",
            "    Uninstalling numpy-1.19.5:\n",
            "      Successfully uninstalled numpy-1.19.5\n",
            "Successfully installed numpy-1.20.3 pomegranate-0.14.5\n"
          ],
          "name": "stdout"
        },
        {
          "output_type": "display_data",
          "data": {
            "application/vnd.colab-display-data+json": {
              "pip_warning": {
                "packages": [
                  "numpy"
                ]
              }
            }
          },
          "metadata": {
            "tags": []
          }
        }
      ]
    },
    {
      "cell_type": "code",
      "metadata": {
        "colab": {
          "base_uri": "https://localhost:8080/"
        },
        "id": "gtcfQd8ut5RS",
        "outputId": "3bade8f9-99a1-402b-96c8-6547064a459b"
      },
      "source": [
        "from pomegranate import *\n",
        "import numpy as np\n",
        "\n",
        "Rain = DiscreteDistribution( {\"Yes\": 0.2, \"No\": 0.8} )\n",
        "\n",
        "Sprinkler = ConditionalProbabilityTable(\n",
        "    [\n",
        "        [\"No\", \"Off\", 0.6],\n",
        "        [\"No\", \"On\", 0.4],\n",
        "        [\"Yes\", \"Off\", 0.99],\n",
        "        [\"Yes\", \"On\", 0.01],\n",
        "    ], [Rain]\n",
        ")\n",
        "\n",
        "Grass = ConditionalProbabilityTable(\n",
        "    [\n",
        "        [\"Off\", \"No\", \"Dry\", 1.0],\n",
        "        [\"Off\", \"No\", \"Wet\", 0.0],\n",
        "        [\"Off\", \"Yes\", \"Dry\", 0.2],\n",
        "        [\"Off\", \"Yes\", \"Wet\", 0.8],\n",
        "        [\"On\", \"No\", \"Dry\", 0.1],\n",
        "        [\"On\", \"No\", \"Wet\", 0.9],\n",
        "        [\"On\", \"Yes\", \"Dry\", 0.01],\n",
        "        [\"On\", \"Yes\", \"Wet\", 0.99],\n",
        "    ], [Sprinkler, Rain]\n",
        ")\n",
        "\n",
        "sRain = Node(Rain, name=\"Rain\")\n",
        "sSprinkler = Node(Sprinkler, name=\"Sprinkler\")\n",
        "sGrass = Node(Grass, name=\"Grass\")\n",
        "\n",
        "model = BayesianNetwork(\"Wet Grass Network\")\n",
        "\n",
        "model.add_nodes(sRain, sSprinkler, sGrass)\n",
        "model.add_edge(sRain, sSprinkler)\n",
        "model.add_edge(sRain, sGrass)\n",
        "model.add_edge(sSprinkler, sGrass)\n",
        "model.bake()\n",
        "\n",
        "arr = np.array([\"Yes\", \"Off\", \"Wet\"], ndmin=2)\n",
        "ans = np.e ** model.log_probability(arr)\n",
        "print(\"The probability that it's raining when the grass is wet = \", ans)\n"
      ],
      "execution_count": 4,
      "outputs": [
        {
          "output_type": "stream",
          "text": [
            "The probability that it's raining when the grass is wet =  0.15840000000000004\n"
          ],
          "name": "stdout"
        }
      ]
    }
  ]
}